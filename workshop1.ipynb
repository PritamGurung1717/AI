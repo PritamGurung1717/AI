{
  "nbformat": 4,
  "nbformat_minor": 0,
  "metadata": {
    "colab": {
      "provenance": []
    },
    "kernelspec": {
      "name": "python3",
      "display_name": "Python 3"
    },
    "language_info": {
      "name": "python"
    }
  },
  "cells": [
    {
      "cell_type": "code",
      "execution_count": 1,
      "metadata": {
        "colab": {
          "base_uri": "https://localhost:8080/"
        },
        "id": "Py-KWy-YLGx-",
        "outputId": "ff48895c-4132-4ab8-835f-5dda76437fdd"
      },
      "outputs": [
        {
          "output_type": "stream",
          "name": "stdout",
          "text": [
            "[[4.79808584e-310 0.00000000e+000]\n",
            " [3.45845952e-323             nan]]\n"
          ]
        }
      ],
      "source": [
        "import numpy as np\n",
        "empty_array = np.empty((2,2))\n",
        "print(empty_array)"
      ]
    },
    {
      "cell_type": "code",
      "source": [
        "import numpy as np\n",
        "ones_array = np.ones((2,2))\n",
        "print(ones_array)"
      ],
      "metadata": {
        "colab": {
          "base_uri": "https://localhost:8080/"
        },
        "id": "WS1QS4zvLrYT",
        "outputId": "f9d15eb1-3df9-410a-e594-521b0db2f416"
      },
      "execution_count": 2,
      "outputs": [
        {
          "output_type": "stream",
          "name": "stdout",
          "text": [
            "[[1. 1.]\n",
            " [1. 1.]]\n"
          ]
        }
      ]
    },
    {
      "cell_type": "code",
      "source": [
        "import numpy as np\n",
        "filled_array = np.full((2,2), 3.14)\n",
        "print(filled_array)"
      ],
      "metadata": {
        "colab": {
          "base_uri": "https://localhost:8080/"
        },
        "id": "GAuOAdccLubs",
        "outputId": "72070ad9-77b2-4695-9307-fd91c1888656"
      },
      "execution_count": 3,
      "outputs": [
        {
          "output_type": "stream",
          "name": "stdout",
          "text": [
            "[[3.14 3.14]\n",
            " [3.14 3.14]]\n"
          ]
        }
      ]
    },
    {
      "cell_type": "code",
      "source": [
        "import numpy as np\n",
        "def zeros_array(arr):\n",
        "  return np.zeros_like(arr)\n",
        "\n",
        "\n",
        "arr = np.array([[1,2,3],[4,5,6]])\n",
        "zeros_array = zeros_array(arr)\n",
        "print(zeros_array)"
      ],
      "metadata": {
        "colab": {
          "base_uri": "https://localhost:8080/"
        },
        "id": "l3XEQZI8Lxsk",
        "outputId": "697f3e5b-73ed-48ad-c525-111910c6e8af"
      },
      "execution_count": 4,
      "outputs": [
        {
          "output_type": "stream",
          "name": "stdout",
          "text": [
            "[[0 0 0]\n",
            " [0 0 0]]\n"
          ]
        }
      ]
    },
    {
      "cell_type": "code",
      "source": [
        "import numpy as np\n",
        "\n",
        "def ones_like(arr):\n",
        "  return np.ones_like(arr)\n",
        "\n",
        "arr = np.array([[1, 2, 3], [4, 5, 6]])\n",
        "new_arr = ones_like(arr)\n",
        "print(new_arr)"
      ],
      "metadata": {
        "colab": {
          "base_uri": "https://localhost:8080/"
        },
        "id": "xjtOI-RKLxpV",
        "outputId": "d921851a-d185-494c-970e-431553514bdf"
      },
      "execution_count": 5,
      "outputs": [
        {
          "output_type": "stream",
          "name": "stdout",
          "text": [
            "[[1 1 1]\n",
            " [1 1 1]]\n"
          ]
        }
      ]
    },
    {
      "cell_type": "code",
      "source": [
        "import numpy as np\n",
        "\n",
        "def ones_like(arr):\n",
        "  return np.ones_like(arr)\n",
        "\n",
        "arr = np.array([[1,2],[4,5]])\n",
        "ones_array = ones_like(arr)\n",
        "print(ones_array)"
      ],
      "metadata": {
        "colab": {
          "base_uri": "https://localhost:8080/"
        },
        "id": "bdbvQdNeL4e_",
        "outputId": "cef409a8-3a6a-46a8-8be3-ed7f61e13ccc"
      },
      "execution_count": 6,
      "outputs": [
        {
          "output_type": "stream",
          "name": "stdout",
          "text": [
            "[[1 1]\n",
            " [1 1]]\n"
          ]
        }
      ]
    },
    {
      "cell_type": "code",
      "source": [
        "import numpy as np\n",
        "\n",
        "new_list = [1,2,3,4]\n",
        "new_array = np.array(new_list)\n",
        "print(new_array)"
      ],
      "metadata": {
        "colab": {
          "base_uri": "https://localhost:8080/"
        },
        "id": "R411oNNcL7qC",
        "outputId": "dfc1b309-341d-469b-f372-725b3748cfa7"
      },
      "execution_count": 7,
      "outputs": [
        {
          "output_type": "stream",
          "name": "stdout",
          "text": [
            "[1 2 3 4]\n"
          ]
        }
      ]
    },
    {
      "cell_type": "code",
      "source": [
        "import numpy as np\n",
        "\n",
        "range_array = np.arange(10,49)\n",
        "print(range_array)"
      ],
      "metadata": {
        "colab": {
          "base_uri": "https://localhost:8080/"
        },
        "id": "i9D30GLbL-4_",
        "outputId": "c04600ae-2ae1-4dce-bdfd-f4285c860d53"
      },
      "execution_count": 8,
      "outputs": [
        {
          "output_type": "stream",
          "name": "stdout",
          "text": [
            "[10 11 12 13 14 15 16 17 18 19 20 21 22 23 24 25 26 27 28 29 30 31 32 33\n",
            " 34 35 36 37 38 39 40 41 42 43 44 45 46 47 48]\n"
          ]
        }
      ]
    },
    {
      "cell_type": "code",
      "source": [
        "import numpy as np\n",
        "matrix_array = np.arange(9).reshape((3,3))\n",
        "print(matrix_array)"
      ],
      "metadata": {
        "colab": {
          "base_uri": "https://localhost:8080/"
        },
        "id": "2wichIFaMB2W",
        "outputId": "7908bde3-09f5-4a50-8b7d-2170cb8ef99a"
      },
      "execution_count": 9,
      "outputs": [
        {
          "output_type": "stream",
          "name": "stdout",
          "text": [
            "[[0 1 2]\n",
            " [3 4 5]\n",
            " [6 7 8]]\n"
          ]
        }
      ]
    },
    {
      "cell_type": "code",
      "source": [
        "import numpy as np\n",
        "\n",
        "new_identity_matrix = np.eye(3)\n",
        "print(new_identity_matrix)"
      ],
      "metadata": {
        "colab": {
          "base_uri": "https://localhost:8080/"
        },
        "id": "vY1Chz7OMCWf",
        "outputId": "8d240dbc-6ae4-4b6f-f8a7-de147a55b141"
      },
      "execution_count": 10,
      "outputs": [
        {
          "output_type": "stream",
          "name": "stdout",
          "text": [
            "[[1. 0. 0.]\n",
            " [0. 1. 0.]\n",
            " [0. 0. 1.]]\n"
          ]
        }
      ]
    },
    {
      "cell_type": "code",
      "source": [
        "import numpy as np\n",
        "\n",
        "random_array = np.random.random(30)\n",
        "mean_of_array = random_array.mean()\n",
        "print(mean_of_array)"
      ],
      "metadata": {
        "colab": {
          "base_uri": "https://localhost:8080/"
        },
        "id": "uKnH77V1MGKk",
        "outputId": "79f6a30f-398c-4b41-b26f-d75b3bf04336"
      },
      "execution_count": 11,
      "outputs": [
        {
          "output_type": "stream",
          "name": "stdout",
          "text": [
            "0.52217346437945\n"
          ]
        }
      ]
    },
    {
      "cell_type": "code",
      "source": [
        "import numpy as np\n",
        "\n",
        "random_array = np.random.random(100).reshape((10,10))\n",
        "max_of_array = random_array.max()\n",
        "min_of_array = random_array.min()\n",
        "print(random_array)\n",
        "print(max_of_array)\n",
        "print(min_of_array)"
      ],
      "metadata": {
        "colab": {
          "base_uri": "https://localhost:8080/"
        },
        "id": "4c-v1AvlMIuB",
        "outputId": "95718cf5-b11d-4461-b488-2c619c94727c"
      },
      "execution_count": 12,
      "outputs": [
        {
          "output_type": "stream",
          "name": "stdout",
          "text": [
            "[[0.04224802 0.28511921 0.90039572 0.39644877 0.34707328 0.83274385\n",
            "  0.61008462 0.86306989 0.1963574  0.21244019]\n",
            " [0.77733671 0.13313537 0.95524617 0.59230633 0.4204064  0.23736949\n",
            "  0.05716122 0.21428486 0.90762485 0.27225388]\n",
            " [0.67884398 0.76745434 0.96015933 0.83917033 0.44858732 0.69340602\n",
            "  0.3956596  0.64628598 0.88738145 0.45781124]\n",
            " [0.4960727  0.48181899 0.28578048 0.22985769 0.00486797 0.53765027\n",
            "  0.36646354 0.07810323 0.41622391 0.68127055]\n",
            " [0.32522766 0.21041167 0.87284983 0.48983937 0.58810356 0.68828523\n",
            "  0.73208507 0.8029663  0.16767245 0.22407761]\n",
            " [0.49540145 0.7350142  0.72532607 0.29262592 0.33158807 0.54650631\n",
            "  0.40039927 0.31218696 0.67068141 0.36791357]\n",
            " [0.40856262 0.85154122 0.49785497 0.95502711 0.49498989 0.59728588\n",
            "  0.23000822 0.45229762 0.16115269 0.52621857]\n",
            " [0.53604065 0.30189323 0.38171689 0.79750155 0.41586739 0.67018696\n",
            "  0.07609217 0.28990946 0.93860099 0.09542107]\n",
            " [0.72593773 0.91258137 0.24729579 0.75020409 0.53132799 0.9026406\n",
            "  0.27921746 0.44724475 0.44521123 0.99045959]\n",
            " [0.13184288 0.32730221 0.55535896 0.35757244 0.70933433 0.93414989\n",
            "  0.51986528 0.86493492 0.34476682 0.21156987]]\n",
            "0.9904595888191875\n",
            "0.004867966951673575\n"
          ]
        }
      ]
    },
    {
      "cell_type": "code",
      "source": [
        "import numpy as np\n",
        "\n",
        "zeros_array = np.zeros(10)\n",
        "zeros_array[4] = 1\n",
        "print(zeros_array)"
      ],
      "metadata": {
        "colab": {
          "base_uri": "https://localhost:8080/"
        },
        "id": "K5Dxjn7BMLQv",
        "outputId": "6843da14-2efb-4ee2-f2e5-89e54ec1320d"
      },
      "execution_count": 13,
      "outputs": [
        {
          "output_type": "stream",
          "name": "stdout",
          "text": [
            "[0. 0. 0. 0. 1. 0. 0. 0. 0. 0.]\n"
          ]
        }
      ]
    },
    {
      "cell_type": "code",
      "source": [
        "import numpy as np\n",
        "\n",
        "arr = [1,2,0,0,4,0]\n",
        "arr.reverse()\n",
        "print(arr)"
      ],
      "metadata": {
        "colab": {
          "base_uri": "https://localhost:8080/"
        },
        "id": "Zsb-QD_qMPo8",
        "outputId": "09179d2f-ad6d-43ad-e6c8-8147e58a2ec3"
      },
      "execution_count": 14,
      "outputs": [
        {
          "output_type": "stream",
          "name": "stdout",
          "text": [
            "[0, 4, 0, 0, 2, 1]\n"
          ]
        }
      ]
    },
    {
      "cell_type": "code",
      "source": [
        "import numpy as np\n",
        "\n",
        "arr = np.zeros((5, 5))\n",
        "arr[0, :] = 1\n",
        "arr[-1, :] = 1\n",
        "arr[:, 0] = 1\n",
        "arr[:, -1] = 1\n",
        "print(arr)\n"
      ],
      "metadata": {
        "colab": {
          "base_uri": "https://localhost:8080/"
        },
        "id": "9u7FyodLMSGv",
        "outputId": "2020ea8e-bf73-485a-ea18-f210b390df89"
      },
      "execution_count": 15,
      "outputs": [
        {
          "output_type": "stream",
          "name": "stdout",
          "text": [
            "[[1. 1. 1. 1. 1.]\n",
            " [1. 0. 0. 0. 1.]\n",
            " [1. 0. 0. 0. 1.]\n",
            " [1. 0. 0. 0. 1.]\n",
            " [1. 1. 1. 1. 1.]]\n"
          ]
        }
      ]
    },
    {
      "cell_type": "code",
      "source": [
        "import numpy as np\n",
        "\n",
        "checkerboard = np.zeros((8, 8))\n",
        "checkerboard[::2, ::2] = 1\n",
        "checkerboard[::2, 1::2] = 1\n",
        "checkerboard[1::2, ::2] = 1\n",
        "checkerboard[1::2, 1::2] = 0\n",
        "print(checkerboard)"
      ],
      "metadata": {
        "colab": {
          "base_uri": "https://localhost:8080/"
        },
        "id": "mF17AQi4MUkz",
        "outputId": "48bbeb65-a905-4647-d5bd-3fdf5f184e7b"
      },
      "execution_count": 16,
      "outputs": [
        {
          "output_type": "stream",
          "name": "stdout",
          "text": [
            "[[1. 1. 1. 1. 1. 1. 1. 1.]\n",
            " [1. 0. 1. 0. 1. 0. 1. 0.]\n",
            " [1. 1. 1. 1. 1. 1. 1. 1.]\n",
            " [1. 0. 1. 0. 1. 0. 1. 0.]\n",
            " [1. 1. 1. 1. 1. 1. 1. 1.]\n",
            " [1. 0. 1. 0. 1. 0. 1. 0.]\n",
            " [1. 1. 1. 1. 1. 1. 1. 1.]\n",
            " [1. 0. 1. 0. 1. 0. 1. 0.]]\n"
          ]
        }
      ]
    },
    {
      "cell_type": "code",
      "source": [
        "import numpy as np\n",
        "\n",
        "x = np.array([[1,2],[3,5]])\n",
        "y = np.array([[5,6],[7,8]])\n",
        "v = np.array([9,10])\n",
        "w = np.array([11,12])\n",
        "\n",
        "addition_of_array = x+y\n",
        "subtraction_of_array = v-w\n",
        "multiplication_of_array = 3 * x\n",
        "square_of_array = y**2\n",
        "dot_product = np.dot(v,w)\n",
        "another_dot_product = np.dot(x,v)\n",
        "last_dot_product = np.dot(x,y)\n",
        "print(\"Addition: \", addition_of_array)\n",
        "print(\"Subtraction: \",subtraction_of_array)\n",
        "print(\"Multiplication: \", multiplication_of_array)\n",
        "print(\"Square: \",square_of_array)\n",
        "print(\"Dot Product v and w: \", dot_product)\n",
        "print(\"Dot Product x and v: \", another_dot_product)\n",
        "print(\"Dot Product x and y: \", last_dot_product)\n"
      ],
      "metadata": {
        "colab": {
          "base_uri": "https://localhost:8080/"
        },
        "id": "Jj1aAYY9MXo3",
        "outputId": "d0712a19-1cf3-473e-9209-6c1261dfb373"
      },
      "execution_count": 17,
      "outputs": [
        {
          "output_type": "stream",
          "name": "stdout",
          "text": [
            "Addition:  [[ 6  8]\n",
            " [10 13]]\n",
            "Subtraction:  [-2 -2]\n",
            "Multiplication:  [[ 3  6]\n",
            " [ 9 15]]\n",
            "Square:  [[25 36]\n",
            " [49 64]]\n",
            "Dot Product v and w:  219\n",
            "Dot Product x and v:  [29 77]\n",
            "Dot Product x and y:  [[19 22]\n",
            " [50 58]]\n"
          ]
        }
      ]
    },
    {
      "cell_type": "code",
      "source": [
        "import numpy as np\n",
        "\n",
        "x = np.array([[1,2],[3,5]])\n",
        "y = np.array([[5,6],[7,8]])\n",
        "v = np.array([9,10])\n",
        "w = np.array([11,12])\n",
        "\n",
        "xy_row = np.concatenate((x, y), axis=0)\n",
        "vw_column = np.concatenate((v.reshape(2,1), w.reshape(2,1)), axis=1)\n",
        "\n",
        "print(\"Concatenated x and y along row: \\n\", xy_row)\n",
        "print(\"Concatenated v and w along column: \\n\", vw_column)\n"
      ],
      "metadata": {
        "colab": {
          "base_uri": "https://localhost:8080/"
        },
        "id": "zAyzf2nAMbAx",
        "outputId": "5db2d5f2-56a0-4ad5-a77a-2218517dd0eb"
      },
      "execution_count": 18,
      "outputs": [
        {
          "output_type": "stream",
          "name": "stdout",
          "text": [
            "Concatenated x and y along row: \n",
            " [[1 2]\n",
            " [3 5]\n",
            " [5 6]\n",
            " [7 8]]\n",
            "Concatenated v and w along column: \n",
            " [[ 9 11]\n",
            " [10 12]]\n"
          ]
        }
      ]
    },
    {
      "cell_type": "code",
      "source": [],
      "metadata": {
        "id": "T8W9DkNlMfYs"
      },
      "execution_count": null,
      "outputs": []
    }
  ]
}